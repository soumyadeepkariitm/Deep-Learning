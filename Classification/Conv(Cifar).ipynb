{
 "cells": [
  {
   "cell_type": "code",
   "execution_count": 1,
   "id": "e4f949d4-9ef8-4345-ad4d-4b82cde87218",
   "metadata": {},
   "outputs": [],
   "source": [
    "import torch\n",
    "import torchvision.transforms as transforms\n",
    "from torch.utils.data import DataLoader\n",
    "import torchvision\n",
    "import torch.nn as nn\n",
    "import torch.nn.functional as F"
   ]
  },
  {
   "cell_type": "code",
   "execution_count": 7,
   "id": "776d699e-81fe-4a41-b753-a08e0c401f68",
   "metadata": {},
   "outputs": [
    {
     "name": "stdout",
     "output_type": "stream",
     "text": [
      "cuda\n"
     ]
    }
   ],
   "source": [
    "# global datatype\n",
    "dtype = torch.float32\n",
    "batch_size = 64\n",
    "learning_rate = 3e-4\n",
    "epochs = 1\n",
    "#global device\n",
    "device = torch.device('cuda' if torch.cuda.is_available() else 'cpu')\n",
    "print(device)"
   ]
  },
  {
   "cell_type": "code",
   "execution_count": 3,
   "id": "17b6efd5-1598-4d76-966b-171472c340b2",
   "metadata": {},
   "outputs": [
    {
     "name": "stdout",
     "output_type": "stream",
     "text": [
      "Files already downloaded and verified\n",
      "train:40000, test:10000, val:10000\n"
     ]
    }
   ],
   "source": [
    "#train, val and test data\n",
    "data = torchvision.datasets.CIFAR10(root = '/home/sasuke/Desktop/deep learning', download = True, train = True, \\\n",
    "                                    transform = transforms.Compose([transforms.ToTensor(), transforms.Normalize((0.4914, 0.4822, 0.4465), (0.2023, 0.1994, 0.2010))]))\n",
    "test_data = torchvision.datasets.CIFAR10(root = '/home/sasuke/Desktop/deep learning', train = False, transform = transforms.Compose([transforms.ToTensor(), transforms.Normalize((0.4914, 0.4822, 0.4465), (0.2023, 0.1994, 0.2010))]))                 \n",
    "train_data, val_data = torch.utils.data.random_split(data, [40000, 10000])\n",
    "print(f\"train:{len(train_data)}, test:{len(test_data)}, val:{len(val_data)}\")"
   ]
  },
  {
   "cell_type": "code",
   "execution_count": 4,
   "id": "3b22894d-57df-426d-a19a-5169be67dd08",
   "metadata": {},
   "outputs": [],
   "source": [
    "#loader\n",
    "train_loader = DataLoader(train_data, batch_size = batch_size)\n",
    "val_loader = DataLoader(val_data, batch_size)\n",
    "test_loader = DataLoader(test_data)\n",
    "#impliment num_workers, memorypinning, etc"
   ]
  },
  {
   "cell_type": "code",
   "execution_count": null,
   "id": "66aa767a-4ba3-499b-be39-e133af91ef3f",
   "metadata": {},
   "outputs": [],
   "source": []
  },
  {
   "cell_type": "code",
   "execution_count": 5,
   "id": "2c25cba3-269a-465c-9755-6911b74ecf26",
   "metadata": {
    "tags": []
   },
   "outputs": [],
   "source": [
    "class CNN(nn.Module):\n",
    "    def __init__(self):\n",
    "        super().__init__()\n",
    "        self.conv1 = nn.Conv2d(in_channels=3, out_channels=32, kernel_size=(3,3), padding='same')\n",
    "        self.conv2 = nn.Conv2d(in_channels=32, out_channels=32, kernel_size=(3,3), padding = 'same')\n",
    "        self.pool = nn.MaxPool2d(kernel_size = 2, stride = 2)\n",
    "        self.conv3 = nn.Conv2d(in_channels=32, out_channels=64, kernel_size = 3, padding = 'same')\n",
    "        self.conv4 = nn.Conv2d(in_channels=64, out_channels=64, kernel_size = 3, padding = 'same')\n",
    "        self.flatten = nn.Flatten()\n",
    "        self.dropout = nn.Dropout(0.5)\n",
    "        self.fc1 = nn.Linear(8 * 8 * 64, 128)\n",
    "        self.fc2 = nn.Linear(128, 10)\n",
    "    def forward(self, x):\n",
    "        x = F.relu(self.conv1(x)) #32*32*48\n",
    "        x = F.relu(self.conv2(x)) #32*32*96\n",
    "        x = self.pool(x) #16*16*96\n",
    "        x = F.relu(self.conv3(x)) #16*16*192\n",
    "        x = F.relu(self.conv4(x)) #16*16*256\n",
    "        x = self.pool(x) # 8*8*256\n",
    "        x = self.flatten(x)\n",
    "        x = self.dropout(x)\n",
    "        x = F.relu(self.fc1(x))\n",
    "        x = F.softmax(self.fc2(x))\n",
    "        return x"
   ]
  },
  {
   "cell_type": "code",
   "execution_count": 35,
   "id": "21a74512-947a-414c-9abc-850a78f7d6b1",
   "metadata": {},
   "outputs": [
    {
     "name": "stderr",
     "output_type": "stream",
     "text": [
      "<ipython-input-5-1ffe68ae5667>:23: UserWarning: Implicit dimension choice for softmax has been deprecated. Change the call to include dim=X as an argument.\n",
      "  x = F.softmax(self.fc2(x))\n"
     ]
    }
   ],
   "source": [
    "#model, optimiuzer and loss\n",
    "model = CNN().to(device)\n",
    "criterion = nn.CrossEntropyLoss()\n",
    "optimizer = torch.optim.Adam(model.parameters(), lr = learning_rate, weight_decay=0.001)\n",
    "for epoch in range(epochs):\n",
    "    countt = 0\n",
    "    for (images, labels) in train_loader:\n",
    "        images = images.to(device)\n",
    "        labels = labels.to(device)\n",
    "        \n",
    "        output = model(images)\n",
    "\n",
    "        loss = criterion(output, labels)\n",
    "        optimizer.zero_grad()\n",
    "        with torch.no_grad():\n",
    "            _, pred= torch.max(output, dim = 1)\n",
    "            countt += (pred == labels).sum().item()\n",
    "        loss.backward()\n",
    "        optimizer.step()\n",
    "    with torch.no_grad():\n",
    "        countv = 0\n",
    "        for (image, labels) in val_loader:\n",
    "            img = image.to(device)\n",
    "            labels = labels.to(device)\n",
    "            output = model(img)\n",
    "            _, predictions = torch.max(output, dim = 1)\n",
    "            countv += (predictions == labels).sum().item()\n",
    "\n"
   ]
  },
  {
   "cell_type": "code",
   "execution_count": 39,
   "id": "0a429e42-bd8a-4475-942f-8d8efda15514",
   "metadata": {},
   "outputs": [
    {
     "name": "stderr",
     "output_type": "stream",
     "text": [
      "<ipython-input-5-1ffe68ae5667>:23: UserWarning: Implicit dimension choice for softmax has been deprecated. Change the call to include dim=X as an argument.\n",
      "  x = F.softmax(self.fc2(x))\n"
     ]
    },
    {
     "name": "stdout",
     "output_type": "stream",
     "text": [
      "0.400\n"
     ]
    }
   ],
   "source": [
    "with torch.no_grad():\n",
    "    countv = 0\n",
    "    for (image, labels) in test_loader:\n",
    "        img = image.to(device)\n",
    "        labels = labels.to(device)\n",
    "        output = model(img)\n",
    "        _, predictions = torch.max(output, dim = 1)\n",
    "        countv += (predictions == labels).sum().item()\n",
    "print(f\"{countv/len(test_data):.3f}\")"
   ]
  }
 ],
 "metadata": {
  "kernelspec": {
   "display_name": "Python 3",
   "language": "python",
   "name": "python3"
  },
  "language_info": {
   "codemirror_mode": {
    "name": "ipython",
    "version": 3
   },
   "file_extension": ".py",
   "mimetype": "text/x-python",
   "name": "python",
   "nbconvert_exporter": "python",
   "pygments_lexer": "ipython3",
   "version": "3.8.10"
  }
 },
 "nbformat": 4,
 "nbformat_minor": 5
}
